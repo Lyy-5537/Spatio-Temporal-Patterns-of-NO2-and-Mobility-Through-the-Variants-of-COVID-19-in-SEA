{
 "cells": [
  {
   "cell_type": "markdown",
   "id": "c16504e2",
   "metadata": {},
   "source": [
    "<font face=\"Times New Roman\" size=3 >\n",
    "The following code are to plot the line graph in Indonesia Case Study section."
   ]
  },
  {
   "cell_type": "markdown",
   "id": "e8db59ce",
   "metadata": {},
   "source": [
    "# Data pre-processing"
   ]
  },
  {
   "cell_type": "code",
   "execution_count": 2,
   "id": "05e58fb1",
   "metadata": {},
   "outputs": [],
   "source": [
    "import pandas as pd\n",
    "import scipy\n",
    "from scipy import stats\n",
    "import os\n",
    "import numpy as np\n",
    "import matplotlib.pyplot as plt\n",
    "from matplotlib.pylab import datestr2num"
   ]
  },
  {
   "cell_type": "code",
   "execution_count": null,
   "id": "05f78fe5",
   "metadata": {},
   "outputs": [],
   "source": [
    "# Merge monthly Facebook movement data\n",
    "folder_path = 'E:\\GRADUATE STUDY\\GE5219\\Data\\Movement\\Results\\Monthly\\Monthly'\n",
    "movement = []\n",
    "for filename in os.listdir(folder_path):\n",
    "    df = pd.read_csv(folder_path + \"\\\\\" + filename, header = 0)\n",
    "    movement.append(df)\n",
    "movement = pd.concat(movement)\n",
    "movement.to_csv(\"all.csv\", header=0, index=0)\n",
    "\n",
    "print(movement)"
   ]
  },
  {
   "cell_type": "code",
   "execution_count": null,
   "id": "ad1d32df",
   "metadata": {},
   "outputs": [],
   "source": [
    "# Merge monthly NO2 data\n",
    "folder_path = r\"E:\\GRADUATE STUDY\\GE5219\\Data\\NO2_raw_daily\"\n",
    "NO2 = []\n",
    "name = []\n",
    "for filename in os.listdir(folder_path):\n",
    "    df = pd.read_csv(folder_path + \"\\\\\" + filename, header = 0)\n",
    "    name = filename\n",
    "    df['date']=name[4:14]\n",
    "    NO2.append(df)\n",
    "NO2 = pd.concat(NO2)\n",
    "NO2"
   ]
  },
  {
   "cell_type": "code",
   "execution_count": null,
   "id": "4cbe95cb",
   "metadata": {},
   "outputs": [],
   "source": [
    "filepath = r\"E:\\GRADUATE STUDY\\GE5219\\Data\\NO2_raw_monthly\\monthlyNO2ID.csv\"\n",
    "NO2 = pd.read_csv(filepath)\n",
    "NO2['NO2'] = pd.to_numeric(NO2['NO2']) \n",
    "group_NO2 = NO2.groupby('month')['NO2'].sum()\n",
    "group_NO2 = group_NO2.reset_index()"
   ]
  },
  {
   "cell_type": "code",
   "execution_count": null,
   "id": "2723f34a",
   "metadata": {},
   "outputs": [],
   "source": [
    "group_NO2['month'] = pd.to_datetime(group_NO2['month'],format='%y-%b')"
   ]
  },
  {
   "cell_type": "code",
   "execution_count": null,
   "id": "5aec32d5",
   "metadata": {},
   "outputs": [],
   "source": [
    "group_NO2 = group_NO2.sort_values(by=['month'],ascending=True)"
   ]
  },
  {
   "cell_type": "code",
   "execution_count": null,
   "id": "fb66a5fb",
   "metadata": {},
   "outputs": [],
   "source": [
    "group_NO2['month'] = pd.to_datetime(group_NO2['month'],format='%b-%y')"
   ]
  },
  {
   "cell_type": "code",
   "execution_count": null,
   "id": "ea1ca1d2",
   "metadata": {},
   "outputs": [],
   "source": [
    "filepath = r\"E:\\GRADUATE STUDY\\GE5219\\Data\\Movement\\Results\\Monthly\\Monthly\\all.csv\"\n",
    "Movement = pd.read_csv(filepath)\n",
    "Movement"
   ]
  },
  {
   "cell_type": "code",
   "execution_count": null,
   "id": "bb6cf0a9",
   "metadata": {},
   "outputs": [],
   "source": [
    "filepath = r\"E:\\GRADUATE STUDY\\GE5219\\Data\\Movement\\Results\\Monthly\\Monthly\\all.csv\"\n",
    "Movement = pd.read_csv(filepath)\n",
    "group_Movement = Movement.groupby('date')['Facebook Movement'].sum()\n",
    "group_Movement = group_Movement.reset_index()\n",
    "group_Movement['date'] = pd.to_datetime(group_Movement['date'],format='%Y/%m')\n",
    "group_Movement = group_Movement.sort_values(by=['date'],ascending=True)"
   ]
  },
  {
   "cell_type": "code",
   "execution_count": null,
   "id": "f31d4904",
   "metadata": {},
   "outputs": [],
   "source": [
    "group_Movement['date'] = pd.to_datetime(group_Movement['date'],format='%Y/%m')"
   ]
  },
  {
   "cell_type": "code",
   "execution_count": null,
   "id": "b50b1996",
   "metadata": {},
   "outputs": [],
   "source": [
    "group_Movement = group_Movement.sort_values(by=['date'],ascending=True)"
   ]
  },
  {
   "cell_type": "code",
   "execution_count": null,
   "id": "af45a625",
   "metadata": {},
   "outputs": [],
   "source": []
  },
  {
   "cell_type": "markdown",
   "id": "ae6210b7",
   "metadata": {},
   "source": [
    "# Plot"
   ]
  },
  {
   "cell_type": "code",
   "execution_count": null,
   "id": "a131b3c0",
   "metadata": {},
   "outputs": [],
   "source": [
    "fig, ax = plt.subplots(figsize=(5, 2.7), layout='constrained')\n",
    "dates = np.arange(np.datetime64('2021-11-15'), np.datetime64('2021-12-25'),\n",
    "                  np.timedelta64(1, 'h'))\n",
    "data = np.cumsum(np.random.randn(len(dates)))\n",
    "ax.plot(dates, data)\n",
    "cdf = mpl.dates.ConciseDateFormatter(ax.xaxis.get_major_locator())\n",
    "ax.xaxis.set_major_formatter(cdf);"
   ]
  },
  {
   "cell_type": "code",
   "execution_count": null,
   "id": "c549c9b8",
   "metadata": {},
   "outputs": [],
   "source": [
    "fig, ax1 = plt.subplots()\n",
    "ax2 = ax1.twinx()\n",
    "fig.set_figheight(5)\n",
    "fig.set_figwidth(18)\n",
    "x1 = group_NO2['month']\n",
    "x2 = group_Movement['date']\n",
    "\n",
    "ax2.plot(x1, group_NO2['NO2'], label='NO2',color='orange')\n",
    "ax1.plot(x2, group_Movement['Facebook Movement'], color='blue', label='Facebook Movement')\n",
    "\n",
    "ax1.set_ylim((0,48000000))\n",
    "ax2.set_ylim((0,0.058))\n",
    "ax2.set(ylabel='NO2', xlabel='Time', title='Comparison of NO2 and Movement during COVID-19')\n",
    "ax1.set(ylabel='Facebook Movement')\n",
    "fig.legend(loc=1, bbox_to_anchor=(2.95,1.1), bbox_transform=ax.transAxes)\n",
    "plt.show()"
   ]
  },
  {
   "cell_type": "code",
   "execution_count": null,
   "id": "165b5137",
   "metadata": {},
   "outputs": [],
   "source": []
  }
 ],
 "metadata": {
  "kernelspec": {
   "display_name": "Python 3 (ipykernel)",
   "language": "python",
   "name": "python3"
  },
  "language_info": {
   "codemirror_mode": {
    "name": "ipython",
    "version": 3
   },
   "file_extension": ".py",
   "mimetype": "text/x-python",
   "name": "python",
   "nbconvert_exporter": "python",
   "pygments_lexer": "ipython3",
   "version": "3.7.11"
  },
  "toc": {
   "base_numbering": 1,
   "nav_menu": {},
   "number_sections": true,
   "sideBar": true,
   "skip_h1_title": false,
   "title_cell": "Table of Contents",
   "title_sidebar": "Contents",
   "toc_cell": false,
   "toc_position": {},
   "toc_section_display": true,
   "toc_window_display": true
  }
 },
 "nbformat": 4,
 "nbformat_minor": 5
}
