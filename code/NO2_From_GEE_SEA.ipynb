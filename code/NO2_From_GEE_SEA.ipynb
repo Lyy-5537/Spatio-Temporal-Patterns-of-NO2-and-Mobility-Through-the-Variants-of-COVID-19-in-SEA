{
 "cells": [
  {
   "cell_type": "markdown",
   "metadata": {},
   "source": [
    "\n",
    "\n",
    "## Import libraries"
   ]
  },
  {
   "cell_type": "code",
   "execution_count": 1,
   "metadata": {},
   "outputs": [],
   "source": [
    "import os\n",
    "import ee\n",
    "import geemap\n",
    "import datetime\n",
    "import pandas as pd"
   ]
  },
  {
   "cell_type": "code",
   "execution_count": null,
   "metadata": {},
   "outputs": [],
   "source": [
    "# geemap.update_package()"
   ]
  },
  {
   "cell_type": "markdown",
   "metadata": {},
   "source": [
    "## explore geemap "
   ]
  },
  {
   "cell_type": "code",
   "execution_count": 2,
   "metadata": {},
   "outputs": [
    {
     "data": {
      "application/vnd.jupyter.widget-view+json": {
       "model_id": "0b3784c0c9cb4659aaa02bb15f871805",
       "version_major": 2,
       "version_minor": 0
      },
      "text/plain": [
       "Map(center=[20, 0], controls=(WidgetControl(options=['position', 'transparent_bg'], widget=HBox(children=(Togg…"
      ]
     },
     "metadata": {},
     "output_type": "display_data"
    }
   ],
   "source": [
    "Map = geemap.Map()\n",
    "Map"
   ]
  },
  {
   "cell_type": "code",
   "execution_count": 3,
   "metadata": {},
   "outputs": [],
   "source": [
    "# Import the points where NO2 values will be pulled from GEE\n",
    "in_csv = 'https://raw.githubusercontent.com/liyangyang515/NO2-in-South-East-Asia-_GE5219/main/data/Points_locations/SEA_pts.csv'"
   ]
  },
  {
   "cell_type": "code",
   "execution_count": 4,
   "metadata": {},
   "outputs": [
    {
     "data": {
      "text/html": [
       "<div>\n",
       "<style scoped>\n",
       "    .dataframe tbody tr th:only-of-type {\n",
       "        vertical-align: middle;\n",
       "    }\n",
       "\n",
       "    .dataframe tbody tr th {\n",
       "        vertical-align: top;\n",
       "    }\n",
       "\n",
       "    .dataframe thead th {\n",
       "        text-align: right;\n",
       "    }\n",
       "</style>\n",
       "<table border=\"1\" class=\"dataframe\">\n",
       "  <thead>\n",
       "    <tr style=\"text-align: right;\">\n",
       "      <th></th>\n",
       "      <th>lon</th>\n",
       "      <th>lat</th>\n",
       "      <th>Code</th>\n",
       "      <th>Country</th>\n",
       "    </tr>\n",
       "  </thead>\n",
       "  <tbody>\n",
       "    <tr>\n",
       "      <th>0</th>\n",
       "      <td>138.625</td>\n",
       "      <td>-4.375</td>\n",
       "      <td>IDN</td>\n",
       "      <td>Indonesia</td>\n",
       "    </tr>\n",
       "    <tr>\n",
       "      <th>1</th>\n",
       "      <td>103.875</td>\n",
       "      <td>-4.375</td>\n",
       "      <td>IDN</td>\n",
       "      <td>Indonesia</td>\n",
       "    </tr>\n",
       "    <tr>\n",
       "      <th>2</th>\n",
       "      <td>104.625</td>\n",
       "      <td>22.625</td>\n",
       "      <td>VNM</td>\n",
       "      <td>Vietnam</td>\n",
       "    </tr>\n",
       "    <tr>\n",
       "      <th>3</th>\n",
       "      <td>99.625</td>\n",
       "      <td>0.875</td>\n",
       "      <td>IDN</td>\n",
       "      <td>Indonesia</td>\n",
       "    </tr>\n",
       "    <tr>\n",
       "      <th>4</th>\n",
       "      <td>115.875</td>\n",
       "      <td>-0.125</td>\n",
       "      <td>IDN</td>\n",
       "      <td>Indonesia</td>\n",
       "    </tr>\n",
       "    <tr>\n",
       "      <th>...</th>\n",
       "      <td>...</td>\n",
       "      <td>...</td>\n",
       "      <td>...</td>\n",
       "      <td>...</td>\n",
       "    </tr>\n",
       "    <tr>\n",
       "      <th>5906</th>\n",
       "      <td>112.375</td>\n",
       "      <td>0.375</td>\n",
       "      <td>IDN</td>\n",
       "      <td>Indonesia</td>\n",
       "    </tr>\n",
       "    <tr>\n",
       "      <th>5907</th>\n",
       "      <td>105.375</td>\n",
       "      <td>17.375</td>\n",
       "      <td>LAO</td>\n",
       "      <td>Laos</td>\n",
       "    </tr>\n",
       "    <tr>\n",
       "      <th>5908</th>\n",
       "      <td>102.875</td>\n",
       "      <td>20.625</td>\n",
       "      <td>LAO</td>\n",
       "      <td>Laos</td>\n",
       "    </tr>\n",
       "    <tr>\n",
       "      <th>5909</th>\n",
       "      <td>103.125</td>\n",
       "      <td>-3.375</td>\n",
       "      <td>IDN</td>\n",
       "      <td>Indonesia</td>\n",
       "    </tr>\n",
       "    <tr>\n",
       "      <th>5910</th>\n",
       "      <td>116.375</td>\n",
       "      <td>5.625</td>\n",
       "      <td>MYS</td>\n",
       "      <td>Malaysia</td>\n",
       "    </tr>\n",
       "  </tbody>\n",
       "</table>\n",
       "<p>5911 rows × 4 columns</p>\n",
       "</div>"
      ],
      "text/plain": [
       "          lon     lat Code    Country\n",
       "0     138.625  -4.375  IDN  Indonesia\n",
       "1     103.875  -4.375  IDN  Indonesia\n",
       "2     104.625  22.625  VNM    Vietnam\n",
       "3      99.625   0.875  IDN  Indonesia\n",
       "4     115.875  -0.125  IDN  Indonesia\n",
       "...       ...     ...  ...        ...\n",
       "5906  112.375   0.375  IDN  Indonesia\n",
       "5907  105.375  17.375  LAO       Laos\n",
       "5908  102.875  20.625  LAO       Laos\n",
       "5909  103.125  -3.375  IDN  Indonesia\n",
       "5910  116.375   5.625  MYS   Malaysia\n",
       "\n",
       "[5911 rows x 4 columns]"
      ]
     },
     "execution_count": 4,
     "metadata": {},
     "output_type": "execute_result"
    }
   ],
   "source": [
    "pts = geemap.csv_to_pandas(in_csv)\n",
    "pts"
   ]
  },
  {
   "cell_type": "code",
   "execution_count": 5,
   "metadata": {},
   "outputs": [],
   "source": [
    "ee_SEA = geemap.pandas_to_ee(pts, latitude=\"lat\", longitude=\"lon\")"
   ]
  },
  {
   "cell_type": "code",
   "execution_count": 6,
   "metadata": {},
   "outputs": [],
   "source": [
    "Map.addLayer(ee_SEA, {}, 'SEA')"
   ]
  },
  {
   "cell_type": "markdown",
   "metadata": {},
   "source": [
    "## create a loop"
   ]
  },
  {
   "cell_type": "code",
   "execution_count": 8,
   "metadata": {},
   "outputs": [
    {
     "name": "stdout",
     "output_type": "stream",
     "text": [
      "Generating URL ...\n",
      "Downloading data from https://earthengine.googleapis.com/v1alpha/projects/earthengine-legacy/tables/9092b9204583459f851bb664fa3a23f2-b9e3cfda7879185782c7b83f889fc3ef:getFeatures\n",
      "Please wait ...\n",
      "Data downloaded to D:\\GitHub\\NO2-in-South-East-Asia-_GE5219\\data\\NO2_SEA_Land\\NO2_raw_daily\\NO2_2020-03-01.csv\n"
     ]
    }
   ],
   "source": [
    "#get daily mean\n",
    "InitialDate= datetime.datetime(2020,3,1)\n",
    "for i in range(0,731,1):\n",
    "# for i in range(0,1,1):\n",
    "    StartDate = (InitialDate + datetime.timedelta(days=i)).strftime('%Y-%m-%d')\n",
    "    EndDate = (InitialDate + datetime.timedelta(days=(i+1))).strftime('%Y-%m-%d')\n",
    "    collection = ee.ImageCollection('COPERNICUS/S5P/NRTI/L3_NO2') \\\n",
    "    .select('tropospheric_NO2_column_number_density') \\\n",
    "    .filterDate(StartDate, EndDate) \n",
    "    # Reduce the collection with a mean reducer.\n",
    "    mean = collection.reduce(ee.Reducer.mean())\n",
    "    out_csv = r'D:\\GitHub\\NO2-in-South-East-Asia-_GE5219\\data\\NO2_SEA_Land\\NO2_raw_daily\\NO2_' + StartDate + '.csv'\n",
    "    geemap.extract_values_to_points(ee_SEA,mean,out_csv, scale = 27750)\n"
   ]
  },
  {
   "cell_type": "code",
   "execution_count": null,
   "metadata": {},
   "outputs": [],
   "source": []
  }
 ],
 "metadata": {
  "hide_input": false,
  "kernelspec": {
   "display_name": "Python 3 (ipykernel)",
   "language": "python",
   "name": "python3"
  },
  "language_info": {
   "codemirror_mode": {
    "name": "ipython",
    "version": 3
   },
   "file_extension": ".py",
   "mimetype": "text/x-python",
   "name": "python",
   "nbconvert_exporter": "python",
   "pygments_lexer": "ipython3",
   "version": "3.9.7"
  },
  "toc": {
   "base_numbering": 1,
   "nav_menu": {},
   "number_sections": true,
   "sideBar": true,
   "skip_h1_title": false,
   "title_cell": "Table of Contents",
   "title_sidebar": "Contents",
   "toc_cell": false,
   "toc_position": {},
   "toc_section_display": true,
   "toc_window_display": false
  }
 },
 "nbformat": 4,
 "nbformat_minor": 4
}
