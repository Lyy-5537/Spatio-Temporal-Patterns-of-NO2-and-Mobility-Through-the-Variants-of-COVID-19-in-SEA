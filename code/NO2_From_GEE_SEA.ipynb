{
 "cells": [
  {
   "cell_type": "markdown",
   "metadata": {},
   "source": [
    "[![Open In Colab](https://colab.research.google.com/assets/colab-badge.svg)](https://colab.research.google.com/github/liyangyang515/Spatio-Temporal-Patterns-of-NO2-and-Mobility-Through-the-Variants-of-COVID-19-in-SEA/blob/main/code/NO2_From_GEE_SEA.ipynb)"
   ]
  },
  {
   "cell_type": "code",
   "execution_count": null,
   "metadata": {},
   "outputs": [],
   "source": [
    "#conda install geemap"
   ]
  },
  {
   "cell_type": "markdown",
   "metadata": {},
   "source": [
    "\n",
    "\n",
    "## Import libraries"
   ]
  },
  {
   "cell_type": "code",
   "execution_count": 1,
   "metadata": {},
   "outputs": [],
   "source": [
    "import os\n",
    "import ee\n",
    "import geemap\n",
    "import datetime"
   ]
  },
  {
   "cell_type": "code",
   "execution_count": null,
   "metadata": {},
   "outputs": [],
   "source": [
    "# geemap.update_package()"
   ]
  },
  {
   "cell_type": "markdown",
   "metadata": {},
   "source": [
    "## explore geemap "
   ]
  },
  {
   "cell_type": "code",
   "execution_count": 2,
   "metadata": {},
   "outputs": [
    {
     "data": {
      "application/vnd.jupyter.widget-view+json": {
       "model_id": "940b2218e9d74e0ebcf59fb09ee94c73",
       "version_major": 2,
       "version_minor": 0
      },
      "text/plain": [
       "Map(center=[20, 0], controls=(WidgetControl(options=['position', 'transparent_bg'], widget=HBox(children=(Togg…"
      ]
     },
     "metadata": {},
     "output_type": "display_data"
    }
   ],
   "source": [
    "Map = geemap.Map()\n",
    "Map"
   ]
  },
  {
   "cell_type": "code",
   "execution_count": 3,
   "metadata": {},
   "outputs": [],
   "source": [
    "# Import the points where NO2 values will be pulled from GEE\n",
    "in_csv = 'https://raw.githubusercontent.com/liyangyang515/NO2-in-South-East-Asia-_GE5219/main/data/Points_locations/SEA_pts.csv'"
   ]
  },
  {
   "cell_type": "code",
   "execution_count": 4,
   "metadata": {},
   "outputs": [
    {
     "data": {
      "text/html": [
       "<div>\n",
       "<style scoped>\n",
       "    .dataframe tbody tr th:only-of-type {\n",
       "        vertical-align: middle;\n",
       "    }\n",
       "\n",
       "    .dataframe tbody tr th {\n",
       "        vertical-align: top;\n",
       "    }\n",
       "\n",
       "    .dataframe thead th {\n",
       "        text-align: right;\n",
       "    }\n",
       "</style>\n",
       "<table border=\"1\" class=\"dataframe\">\n",
       "  <thead>\n",
       "    <tr style=\"text-align: right;\">\n",
       "      <th></th>\n",
       "      <th>lon</th>\n",
       "      <th>lat</th>\n",
       "    </tr>\n",
       "  </thead>\n",
       "  <tbody>\n",
       "    <tr>\n",
       "      <th>0</th>\n",
       "      <td>113.375</td>\n",
       "      <td>-8.625</td>\n",
       "    </tr>\n",
       "    <tr>\n",
       "      <th>1</th>\n",
       "      <td>113.625</td>\n",
       "      <td>-8.625</td>\n",
       "    </tr>\n",
       "    <tr>\n",
       "      <th>2</th>\n",
       "      <td>110.875</td>\n",
       "      <td>-8.375</td>\n",
       "    </tr>\n",
       "    <tr>\n",
       "      <th>3</th>\n",
       "      <td>111.125</td>\n",
       "      <td>-8.375</td>\n",
       "    </tr>\n",
       "    <tr>\n",
       "      <th>4</th>\n",
       "      <td>111.375</td>\n",
       "      <td>-8.375</td>\n",
       "    </tr>\n",
       "    <tr>\n",
       "      <th>...</th>\n",
       "      <td>...</td>\n",
       "      <td>...</td>\n",
       "    </tr>\n",
       "    <tr>\n",
       "      <th>8141</th>\n",
       "      <td>125.375</td>\n",
       "      <td>8.875</td>\n",
       "    </tr>\n",
       "    <tr>\n",
       "      <th>8142</th>\n",
       "      <td>125.625</td>\n",
       "      <td>8.875</td>\n",
       "    </tr>\n",
       "    <tr>\n",
       "      <th>8143</th>\n",
       "      <td>125.875</td>\n",
       "      <td>8.875</td>\n",
       "    </tr>\n",
       "    <tr>\n",
       "      <th>8144</th>\n",
       "      <td>126.125</td>\n",
       "      <td>8.875</td>\n",
       "    </tr>\n",
       "    <tr>\n",
       "      <th>8145</th>\n",
       "      <td>126.375</td>\n",
       "      <td>8.875</td>\n",
       "    </tr>\n",
       "  </tbody>\n",
       "</table>\n",
       "<p>8146 rows × 2 columns</p>\n",
       "</div>"
      ],
      "text/plain": [
       "          lon    lat\n",
       "0     113.375 -8.625\n",
       "1     113.625 -8.625\n",
       "2     110.875 -8.375\n",
       "3     111.125 -8.375\n",
       "4     111.375 -8.375\n",
       "...       ...    ...\n",
       "8141  125.375  8.875\n",
       "8142  125.625  8.875\n",
       "8143  125.875  8.875\n",
       "8144  126.125  8.875\n",
       "8145  126.375  8.875\n",
       "\n",
       "[8146 rows x 2 columns]"
      ]
     },
     "execution_count": 4,
     "metadata": {},
     "output_type": "execute_result"
    }
   ],
   "source": [
    "pts = geemap.csv_to_pandas(in_csv)\n",
    "pts"
   ]
  },
  {
   "cell_type": "code",
   "execution_count": 5,
   "metadata": {},
   "outputs": [],
   "source": [
    "# convert to ee points\n",
    "ee_SEA = geemap.pandas_to_ee(pts, latitude='lat', longitude='lon')"
   ]
  },
  {
   "cell_type": "code",
   "execution_count": 6,
   "metadata": {},
   "outputs": [],
   "source": [
    "# add points layer to map\n",
    "Map.addLayer(ee_SEA, {}, 'SEA')"
   ]
  },
  {
   "cell_type": "markdown",
   "metadata": {},
   "source": [
    "## create a loop"
   ]
  },
  {
   "cell_type": "code",
   "execution_count": 7,
   "metadata": {},
   "outputs": [
    {
     "name": "stdout",
     "output_type": "stream",
     "text": [
      "Generating URL ...\n",
      "Downloading data from https://earthengine.googleapis.com/v1alpha/projects/earthengine-legacy/tables/ee9c2b8b87235fda9a1460ef9c3e0415-8bb4c5d4f878cfee28186d20d1a013bb:getFeatures\n",
      "Please wait ...\n",
      "Data downloaded to D:\\GitHub\\NO2-in-South-East-Asia-_GE5219\\data\\NO2_SEA_Land\\NO2_raw_daily\\NO2_2020-06-08.csv\n"
     ]
    }
   ],
   "source": [
    "# get daily mean from Jun 8, 2020 to Dec 31, 2021\n",
    "InitialDate= datetime.datetime(2020,6,8)\n",
    "# for i in range(0,1,1):\n",
    "# loop within the study period\n",
    "for i in range(0,572,1):\n",
    "    StartDate = (InitialDate + datetime.timedelta(days=i)).strftime('%Y-%m-%d')\n",
    "    EndDate = (InitialDate + datetime.timedelta(days=(i+1))).strftime('%Y-%m-%d')\n",
    "    collection = ee.ImageCollection('COPERNICUS/S5P/NRTI/L3_NO2') \\\n",
    "    .select('tropospheric_NO2_column_number_density') \\\n",
    "    .filterDate(StartDate, EndDate) \n",
    "    # Reduce the collection with a mean reducer.\n",
    "    mean = collection.reduce(ee.Reducer.mean())\n",
    "    # output daily mean to a csv for each day\n",
    "    out_csv = r'D:\\GitHub\\NO2-in-South-East-Asia-_GE5219\\data\\NO2_SEA_Land\\NO2_raw_daily\\NO2_' + StartDate + '.csv'\n",
    "    geemap.extract_values_to_points(ee_SEA,mean,out_csv, scale = 27750)\n"
   ]
  },
  {
   "cell_type": "code",
   "execution_count": null,
   "metadata": {},
   "outputs": [],
   "source": []
  }
 ],
 "metadata": {
  "hide_input": false,
  "kernelspec": {
   "display_name": "Python 3 (ipykernel)",
   "language": "python",
   "name": "python3"
  },
  "language_info": {
   "codemirror_mode": {
    "name": "ipython",
    "version": 3
   },
   "file_extension": ".py",
   "mimetype": "text/x-python",
   "name": "python",
   "nbconvert_exporter": "python",
   "pygments_lexer": "ipython3",
   "version": "3.9.7"
  },
  "toc": {
   "base_numbering": 1,
   "nav_menu": {},
   "number_sections": true,
   "sideBar": true,
   "skip_h1_title": false,
   "title_cell": "Table of Contents",
   "title_sidebar": "Contents",
   "toc_cell": false,
   "toc_position": {},
   "toc_section_display": true,
   "toc_window_display": false
  }
 },
 "nbformat": 4,
 "nbformat_minor": 4
}
