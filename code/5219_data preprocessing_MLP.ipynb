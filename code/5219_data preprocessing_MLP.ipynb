{
 "cells": [
  {
   "cell_type": "code",
   "execution_count": null,
   "id": "d808c968",
   "metadata": {},
   "outputs": [],
   "source": [
    "import pandas as pd\n",
    "import datetime\n",
    "import glob\n",
    "import os\n",
    "import plotly.express as px\n",
    "import plotly.graph_objects as go"
   ]
  },
  {
   "cell_type": "code",
   "execution_count": null,
   "id": "8e32d0c3",
   "metadata": {},
   "outputs": [],
   "source": [
    "# read studied area\n",
    "pts = pd.read_csv(r'D:\\GitHub\\NO2-in-South-East-Asia-_GE5219\\data\\Points_locations\\SEA_Points_Country.csv')\n",
    "pts"
   ]
  },
  {
   "cell_type": "markdown",
   "id": "226d7d14",
   "metadata": {},
   "source": [
    "## Weather"
   ]
  },
  {
   "cell_type": "code",
   "execution_count": null,
   "id": "d202f96d",
   "metadata": {},
   "outputs": [],
   "source": [
    "# read weather data\n",
    "weather = pd.read_csv(r'D:\\GitHub\\NO2-in-South-East-Asia-_GE5219\\data\\weather.csv', index_col = 0)\n",
    "weather"
   ]
  },
  {
   "cell_type": "markdown",
   "id": "b73e6ccb",
   "metadata": {},
   "source": [
    "## Mobility"
   ]
  },
  {
   "cell_type": "code",
   "execution_count": null,
   "id": "56d59b11",
   "metadata": {},
   "outputs": [],
   "source": [
    "# read facebook mobility data\n",
    "path = r'D:\\GitHub\\NO2-in-South-East-Asia-_GE5219\\data\\facebook_mobility'      \n",
    "all_files = glob.glob(os.path.join(path, \"*.csv\"))     \n",
    "facebook_mobility = pd.DataFrame(columns = [])\n",
    "for f in all_files:\n",
    "    df_from_each_file = pd.read_csv(f)\n",
    "    facebook_mobility   = pd.concat([facebook_mobility, df_from_each_file], ignore_index=True)\n",
    "facebook_mobility"
   ]
  },
  {
   "cell_type": "code",
   "execution_count": null,
   "id": "ba73adc7",
   "metadata": {},
   "outputs": [],
   "source": [
    "# select columns of interests only\n",
    "facebook_mobility = facebook_mobility[['date', 'grid_lon', 'grid_lat', 'movement_value']]\n",
    "facebook_mobility"
   ]
  },
  {
   "cell_type": "code",
   "execution_count": null,
   "id": "56a384a4",
   "metadata": {},
   "outputs": [],
   "source": [
    "# rename to be consistent\n",
    "facebook_mobility = facebook_mobility.rename(columns={'grid_lon': 'lon', 'grid_lat': 'lat'})\n",
    "facebook_mobility"
   ]
  },
  {
   "cell_type": "code",
   "execution_count": null,
   "id": "972a5c6d",
   "metadata": {},
   "outputs": [],
   "source": [
    "facebook_mobility = facebook_mobility.groupby(['date', 'lon', 'lat']).agg({'movement_value':'sum'}).reset_index()\n",
    "facebook_mobility"
   ]
  },
  {
   "cell_type": "code",
   "execution_count": null,
   "id": "cc418896",
   "metadata": {},
   "outputs": [],
   "source": [
    "# merge weather and facebook mobility, inner merge\n",
    "merge_1 = pd.merge(weather, facebook_mobility, how = 'inner', on = ['date', 'lon', 'lat'])\n",
    "merge_1"
   ]
  },
  {
   "cell_type": "code",
   "execution_count": null,
   "id": "4bcfdd0a",
   "metadata": {},
   "outputs": [],
   "source": [
    "# merge with pts to include country columns\n",
    "merge_2 = pd.merge(merge_1, pts, how = 'inner', on = ['lon','lat'])\n",
    "merge_2 = merge_2.dropna().sort_values(by = ['date', 'country', 'lon', 'lat'])\n",
    "merge_2"
   ]
  },
  {
   "cell_type": "code",
   "execution_count": null,
   "id": "e9a84606",
   "metadata": {},
   "outputs": [],
   "source": [
    "# change to datetime for further merge\n",
    "merge_2['date'] =  pd.to_datetime(merge_2['date'], format='%Y-%m-%d')\n",
    "merge_2"
   ]
  },
  {
   "cell_type": "code",
   "execution_count": null,
   "id": "5474e4e9",
   "metadata": {},
   "outputs": [],
   "source": [
    "# read apple mobility data\n",
    "apple = pd.read_csv(r'D:\\GitHub\\NO2-in-South-East-Asia-_GE5219\\data\\apple_mobility.csv', index_col = 0)\n",
    "apple"
   ]
  },
  {
   "cell_type": "code",
   "execution_count": null,
   "id": "e6dd06c2",
   "metadata": {},
   "outputs": [],
   "source": [
    "# change to datetime for further merge\n",
    "apple['date'] =  pd.to_datetime(apple['date'], format='%Y-%m-%d')\n",
    "apple"
   ]
  },
  {
   "cell_type": "code",
   "execution_count": null,
   "id": "27ccded6",
   "metadata": {},
   "outputs": [],
   "source": [
    "# merge with apple mobility\n",
    "merge_3 = pd.merge(merge_2, apple, how = 'inner', on = ['date','country'])\n",
    "merge_3 = merge_3.dropna().sort_values(by = ['date', 'country', 'lon', 'lat'])\n",
    "merge_3"
   ]
  },
  {
   "cell_type": "markdown",
   "id": "048599ef",
   "metadata": {},
   "source": [
    "## NO2"
   ]
  },
  {
   "cell_type": "code",
   "execution_count": null,
   "id": "20e36867",
   "metadata": {},
   "outputs": [],
   "source": [
    "# read and concat all daily NO2\n",
    "path = r'D:\\GitHub\\NO2-in-South-East-Asia-_GE5219\\data\\NO2_SEA_Land\\NO2_raw_daily'      \n",
    "all_files = glob.glob(os.path.join(path, \"*.csv\"))     \n",
    "concatenated_NO2 = pd.DataFrame(columns = [])\n",
    "for f in all_files:\n",
    "    df_from_each_file = pd.read_csv(f)\n",
    "    # create a new column to store year and month (extracted from file name)\n",
    "    df_from_each_file['date'] = f[-14:-4]\n",
    "    concatenated_NO2   = pd.concat([concatenated_NO2, df_from_each_file], ignore_index=True)\n",
    "concatenated_NO2"
   ]
  },
  {
   "cell_type": "code",
   "execution_count": null,
   "id": "eafe419a",
   "metadata": {},
   "outputs": [],
   "source": [
    "# drop useless column and rename column\n",
    "concatenated_NO2 = concatenated_NO2.dropna().drop(columns = ['system:index']).rename(columns={'first': 'NO2'})\n",
    "concatenated_NO2"
   ]
  },
  {
   "cell_type": "code",
   "execution_count": null,
   "id": "468cc20c",
   "metadata": {},
   "outputs": [],
   "source": [
    "# change to datetime for further merge\n",
    "concatenated_NO2['date'] =  pd.to_datetime(concatenated_NO2['date'], format='%Y-%m-%d')\n",
    "concatenated_NO2"
   ]
  },
  {
   "cell_type": "code",
   "execution_count": null,
   "id": "f83ddd9b",
   "metadata": {},
   "outputs": [],
   "source": [
    "# save to csv\n",
    "# concatenated_NO2.to_csv(r'D:\\GitHub\\NO2-in-South-East-Asia-_GE5219\\data\\NO2_SEA_Land\\NO2_raw_daily\\2020_2021_daily_NO2.csv', index = False)"
   ]
  },
  {
   "cell_type": "code",
   "execution_count": null,
   "id": "af1f9d44",
   "metadata": {},
   "outputs": [],
   "source": [
    "# merge with NO2\n",
    "merge_4 = pd.merge(merge_3, concatenated_NO2, how = 'inner', on = ['date','lon', 'lat'])\n",
    "merge_4 = merge_4.dropna().sort_values(by = ['date', 'country', 'lon', 'lat'])\n",
    "merge_4"
   ]
  },
  {
   "cell_type": "markdown",
   "id": "f629c2dc",
   "metadata": {},
   "source": [
    "## Transboundary haze"
   ]
  },
  {
   "cell_type": "code",
   "execution_count": null,
   "id": "534743ef",
   "metadata": {},
   "outputs": [],
   "source": [
    "# read haze area\n",
    "haze = pd.read_csv(r'D:\\GitHub\\NO2-in-South-East-Asia-_GE5219\\data\\haze.csv')\n",
    "haze"
   ]
  },
  {
   "cell_type": "code",
   "execution_count": null,
   "id": "23d9d9fe",
   "metadata": {},
   "outputs": [],
   "source": [
    "# change to datetime for further merge\n",
    "haze['date'] = pd.to_datetime(haze['date'], format = '%d/%m/%Y', errors='raise')\n",
    "haze"
   ]
  },
  {
   "cell_type": "code",
   "execution_count": null,
   "id": "22046409",
   "metadata": {},
   "outputs": [],
   "source": [
    "# get country code list\n",
    "merge_4['Code'].unique()"
   ]
  },
  {
   "cell_type": "code",
   "execution_count": null,
   "id": "d357d778",
   "metadata": {},
   "outputs": [],
   "source": [
    "# change country code name in haze for further merge on code \n",
    "haze['Code'] = haze['Code'].replace(['KH', 'ID', 'MY', 'PH', 'SG', 'TH', 'VN'],['KHM', 'IDN', 'MYS', 'PHL', 'SGP', 'THA', 'VNM'])\n",
    "haze"
   ]
  },
  {
   "cell_type": "code",
   "execution_count": null,
   "id": "b2e3d9b6",
   "metadata": {},
   "outputs": [],
   "source": [
    "# merge with NO2\n",
    "merge_5 = pd.merge(merge_4, haze, how = 'inner', on = ['date','Code'])\n",
    "merge_5 = merge_5.dropna().sort_values(by = ['date', 'lon', 'lat'])\n",
    "merge_5"
   ]
  },
  {
   "cell_type": "markdown",
   "id": "75eea0b5",
   "metadata": {},
   "source": [
    "## Visualise"
   ]
  },
  {
   "cell_type": "code",
   "execution_count": null,
   "id": "0cec7949",
   "metadata": {},
   "outputs": [],
   "source": [
    "#this is a public token\n",
    "mapbox_token = 'pk.eyJ1IjoibGl5YW5neWFuZzUxNSIsImEiOiJjbDBuNmM3MjEwdGZjM2t0NHRqbmJidXFjIn0.8O9DnGkHPecl4jjk1ZqQUQ'\n",
    "\n",
    "px.set_mapbox_access_token(mapbox_token)"
   ]
  },
  {
   "cell_type": "code",
   "execution_count": null,
   "id": "8f52497b",
   "metadata": {
    "collapsed": true
   },
   "outputs": [],
   "source": [
    "# merge_5 = pd.read_csv(r'D:\\GitHub\\NO2-in-South-East-Asia-_GE5219\\data\\merged_data.csv', index_col = 0)\n",
    "# merge_5"
   ]
  },
  {
   "cell_type": "code",
   "execution_count": null,
   "id": "8057aad5",
   "metadata": {},
   "outputs": [],
   "source": [
    "# group by location, agg to mean\n",
    "merge_5_by_loc = merge_5.groupby(['lon', 'lat','country']).agg({'NO2':'mean', 'driving':'mean','walking':'mean','movement_value':'mean'}).reset_index()\n",
    "merge_5_by_loc"
   ]
  },
  {
   "cell_type": "code",
   "execution_count": null,
   "id": "be0e03c1",
   "metadata": {},
   "outputs": [],
   "source": [
    "# group by location, agg to max\n",
    "merge_5_by_loc_max = merge_5.groupby(['lon', 'lat','country']).agg({'NO2':'max', 'driving':'max','walking':'max','movement_value':'max'}).reset_index()\n",
    "merge_5_by_loc_max"
   ]
  },
  {
   "cell_type": "code",
   "execution_count": null,
   "id": "875fd718",
   "metadata": {},
   "outputs": [],
   "source": [
    "# plot to see NO2 in color and facebook mobility in size\n",
    "fig_loc = px.scatter_mapbox(merge_5_by_loc, lat=\"lat\", lon=\"lon\", color = 'NO2', size = 'movement_value',\n",
    "                  color_continuous_scale=px.colors.cyclical.IceFire, size_max=15, zoom=2)\n",
    "fig_loc.show()"
   ]
  },
  {
   "cell_type": "code",
   "execution_count": null,
   "id": "571ed425",
   "metadata": {},
   "outputs": [],
   "source": [
    "# group by date, agg to mean\n",
    "merge_5_by_date = merge_5.groupby(['date', 'country']).agg({'NO2':'mean', 'driving':'mean','walking':'mean','movement_value':'mean'}).reset_index()\n",
    "merge_5_by_date"
   ]
  },
  {
   "cell_type": "code",
   "execution_count": null,
   "id": "393b8397",
   "metadata": {},
   "outputs": [],
   "source": [
    "# group by date, agg to max\n",
    "merge_5_by_date_max = merge_5.groupby(['date', 'country']).agg({'NO2':'max', 'driving':'max','walking':'max','movement_value':'max'}).reset_index()\n",
    "merge_5_by_date_max"
   ]
  },
  {
   "cell_type": "code",
   "execution_count": null,
   "id": "d282679d",
   "metadata": {},
   "outputs": [],
   "source": [
    "# plot the relationship between max NO2 and facebook mobility each day\n",
    "fig = px.scatter(merge_5_by_date_max, x=\"movement_value\", y=\"NO2\", trendline=\"ols\", color=\"country\" )\n",
    "#                  , facet_row=\"country\")\n",
    "fig.show()"
   ]
  },
  {
   "cell_type": "code",
   "execution_count": null,
   "id": "83acda95",
   "metadata": {},
   "outputs": [],
   "source": [
    "# plot the relationship between max NO2 and facebook mobility each day in log scale, can see a gap in between, indicating a possible lock down effet\n",
    "fig = px.scatter(merge_5_by_date_max, x='movement_value', y='NO2', color='country', trendline='ols', log_x=True, log_y=True, hover_data=['date'])\n",
    "fig.show()"
   ]
  },
  {
   "cell_type": "code",
   "execution_count": null,
   "id": "1c6e2f80",
   "metadata": {},
   "outputs": [],
   "source": [
    "# plot the relationship between NO2 and facebook mobility for all, in log scale (can see some nosie at low movement, will filter them out in the MLP part)\n",
    "fig = px.scatter(merge_5, x='movement_value', y='NO2', color='country', log_y=True,log_x=True, hover_data=['date','lon','lat'])\n",
    "fig.show()"
   ]
  },
  {
   "cell_type": "code",
   "execution_count": null,
   "id": "9f39ce49",
   "metadata": {},
   "outputs": [],
   "source": [
    "merge_5['day'] = (merge_5['date'] - merge_5.iloc[0]['date']).dt.days\n",
    "merge_5"
   ]
  },
  {
   "cell_type": "code",
   "execution_count": null,
   "id": "8cc812fb",
   "metadata": {},
   "outputs": [],
   "source": [
    "merge_5 = merge_5.rename(columns={'movement_value': 'facebook_movement', 'driving': 'apple_driving', 'driving': 'apple_driving', 'walking': 'apple_walking', 'tp': 'rainfall'})\n",
    "merge_5"
   ]
  },
  {
   "cell_type": "code",
   "execution_count": null,
   "id": "d501e38e",
   "metadata": {},
   "outputs": [],
   "source": [
    "# save to csv\n",
    "merge_5.to_csv(r'D:\\GitHub\\NO2-in-South-East-Asia-_GE5219\\data\\merged_data.csv')"
   ]
  }
 ],
 "metadata": {
  "hide_input": false,
  "kernelspec": {
   "display_name": "Python 3 (ipykernel)",
   "language": "python",
   "name": "python3"
  },
  "language_info": {
   "codemirror_mode": {
    "name": "ipython",
    "version": 3
   },
   "file_extension": ".py",
   "mimetype": "text/x-python",
   "name": "python",
   "nbconvert_exporter": "python",
   "pygments_lexer": "ipython3",
   "version": "3.9.7"
  },
  "toc": {
   "base_numbering": 1,
   "nav_menu": {},
   "number_sections": true,
   "sideBar": true,
   "skip_h1_title": false,
   "title_cell": "Table of Contents",
   "title_sidebar": "Contents",
   "toc_cell": false,
   "toc_position": {},
   "toc_section_display": true,
   "toc_window_display": true
  }
 },
 "nbformat": 4,
 "nbformat_minor": 5
}
