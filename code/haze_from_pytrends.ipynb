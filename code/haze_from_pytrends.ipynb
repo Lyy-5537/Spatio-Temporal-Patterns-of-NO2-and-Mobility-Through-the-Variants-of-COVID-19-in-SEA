{
 "cells": [
  {
   "cell_type": "code",
   "execution_count": 1,
   "id": "7b636979",
   "metadata": {},
   "outputs": [],
   "source": [
    "# !pip install pytrends\n",
    "from pytrends.request import TrendReq\n",
    "from pytrends import dailydata\n",
    "pytrend = TrendReq()\n",
    "\n",
    "#https://github.com/GeneralMills/pytrends/blob/master/pytrends/dailydata.py\n",
    "# API: pytrends\n",
    "# query from google trends of daily data\n",
    "# the daily data are normalised as google trends is provides only an index\n",
    "# the resultant csv files were then scaled with the corresponding popularity across countries\n",
    "### keyword, start year, start month, end year, end month, location ###\n",
    "# we used haze, 2020, 3, 2022, 2, geo = 'geo_list'"
   ]
  },
  {
   "cell_type": "code",
   "execution_count": null,
   "id": "3adb76fd",
   "metadata": {},
   "outputs": [],
   "source": [
    "# list countries in SEA: BRUNEI, CAMBODIA, INDONESIA, LAOS, MALAYSIA, MYANMMAR, PHILIPPINES, SINGAPORE, THAILAND, VIETNAM\n",
    "geo_list=[\"BN\", \"KH\", \"ID\", \"LA\", \"MY\", \"MM\", \"PH\", \"SG\", \"TH\", \"VN\"] "
   ]
  },
  {
   "cell_type": "code",
   "execution_count": null,
   "id": "fc2eb3d3",
   "metadata": {},
   "outputs": [],
   "source": [
    "# BRUNEI\n",
    "df = dailydata.get_daily_data('haze', 2020, 3, 2022, 2, geo = 'BN') \n",
    "print(df) \n",
    "df.to_csv('BN_EN_haze.csv')"
   ]
  },
  {
   "cell_type": "code",
   "execution_count": null,
   "id": "23c2cdc4",
   "metadata": {},
   "outputs": [],
   "source": [
    "# CAMBODIA\n",
    "df = dailydata.get_daily_data('haze', 2020, 3, 2022, 2, geo = 'KH') \n",
    "print(df)\n",
    "df.to_csv('KH_EN_haze.csv')"
   ]
  },
  {
   "cell_type": "code",
   "execution_count": null,
   "id": "bb6ae177",
   "metadata": {},
   "outputs": [],
   "source": [
    "# INDONESIA\n",
    "df = dailydata.get_daily_data('haze', 2020, 3, 2022, 2, geo = 'ID') \n",
    "print(df)\n",
    "df.to_csv('LA_EN_haze.csv')"
   ]
  },
  {
   "cell_type": "code",
   "execution_count": null,
   "id": "79647462",
   "metadata": {},
   "outputs": [],
   "source": [
    "# LAOS\n",
    "df = dailydata.get_daily_data('haze', 2020, 3, 2022, 2, geo = 'LA') \n",
    "print(df)\n",
    "df.to_csv('LA_EN_haze.csv')"
   ]
  },
  {
   "cell_type": "code",
   "execution_count": null,
   "id": "17383895",
   "metadata": {},
   "outputs": [],
   "source": [
    "# MALAYSIA\n",
    "df = dailydata.get_daily_data('haze', 2020, 3, 2022, 2, geo = 'MY') \n",
    "print(df)\n",
    "df.to_csv('MY_EN_haze.csv')"
   ]
  },
  {
   "cell_type": "code",
   "execution_count": null,
   "id": "25b72f55",
   "metadata": {},
   "outputs": [],
   "source": [
    "# MYANMMAR\n",
    "df = dailydata.get_daily_data('haze', 2020, 3, 2022, 2, geo = 'MM') \n",
    "print(df)\n",
    "df.to_csv('MM_EN_haze.csv')"
   ]
  },
  {
   "cell_type": "code",
   "execution_count": null,
   "id": "ae218f51",
   "metadata": {},
   "outputs": [],
   "source": [
    "# PHILIPPINES\n",
    "df = dailydata.get_daily_data('haze', 2020, 3, 2022, 2, geo = 'PH') \n",
    "print(df)\n",
    "df.to_csv('PH_EN_haze.csv')"
   ]
  },
  {
   "cell_type": "code",
   "execution_count": null,
   "id": "aeb55fd8",
   "metadata": {},
   "outputs": [],
   "source": [
    "# SINGAPORE\n",
    "df = dailydata.get_daily_data('haze', 2020, 3, 2022, 2, geo = 'SG') \n",
    "print(df)\n",
    "df.to_csv('SG_EN_haze.csv')"
   ]
  },
  {
   "cell_type": "code",
   "execution_count": null,
   "id": "90b2b0df",
   "metadata": {},
   "outputs": [],
   "source": [
    "# THAILAND\n",
    "df = dailydata.get_daily_data('haze', 2020, 3, 2022, 2, geo = 'TH') \n",
    "print(df)\n",
    "df.to_csv('TH_EN_haze.csv')"
   ]
  },
  {
   "cell_type": "code",
   "execution_count": null,
   "id": "8e581d6f",
   "metadata": {},
   "outputs": [],
   "source": [
    "# VIETNAM\n",
    "df = dailydata.get_daily_data('haze', 2020, 3, 2022, 2, geo = 'VN') \n",
    "print(df)\n",
    "df.to_csv('VN_EN_haze.csv')"
   ]
  }
 ],
 "metadata": {
  "kernelspec": {
   "display_name": "Python 3",
   "language": "python",
   "name": "python3"
  },
  "language_info": {
   "codemirror_mode": {
    "name": "ipython",
    "version": 3
   },
   "file_extension": ".py",
   "mimetype": "text/x-python",
   "name": "python",
   "nbconvert_exporter": "python",
   "pygments_lexer": "ipython3",
   "version": "3.7.11"
  }
 },
 "nbformat": 4,
 "nbformat_minor": 5
}
