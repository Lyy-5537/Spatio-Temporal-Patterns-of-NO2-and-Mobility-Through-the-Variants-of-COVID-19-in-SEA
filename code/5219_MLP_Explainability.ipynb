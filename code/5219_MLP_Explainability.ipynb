{
 "cells": [
  {
   "cell_type": "code",
   "execution_count": null,
   "id": "06827e21",
   "metadata": {},
   "outputs": [],
   "source": [
    "import pandas as pd\n",
    "import numpy as np\n",
    "import matplotlib.pyplot as plt\n",
    "from sklearn.metrics import mean_squared_error as mse\n",
    "from sklearn.metrics import mean_absolute_error as mae\n",
    "from sklearn.metrics import r2_score\n",
    "import plotly.express as px\n",
    "import plotly.graph_objects as go\n",
    "import shap\n",
    "from sklearn.preprocessing import StandardScaler\n",
    "from sklearn.model_selection import train_test_split"
   ]
  },
  {
   "cell_type": "code",
   "execution_count": null,
   "id": "f1dd83ee",
   "metadata": {},
   "outputs": [],
   "source": [
    "import tensorflow as tf    \n",
    "tf.compat.v1.disable_v2_behavior() # <-- HERE !"
   ]
  },
  {
   "cell_type": "code",
   "execution_count": null,
   "id": "faafda7d",
   "metadata": {},
   "outputs": [],
   "source": [
    "from tensorflow import keras"
   ]
  },
  {
   "cell_type": "code",
   "execution_count": null,
   "id": "774a28c0",
   "metadata": {},
   "outputs": [],
   "source": [
    "from tensorflow.keras import layers, callbacks\n",
    "from tensorflow.keras.models import load_model"
   ]
  },
  {
   "cell_type": "code",
   "execution_count": null,
   "id": "dd9aa94b",
   "metadata": {},
   "outputs": [],
   "source": [
    "#this is a public token\n",
    "mapbox_token = 'pk.eyJ1IjoibGl5YW5neWFuZzUxNSIsImEiOiJjbDBuNmM3MjEwdGZjM2t0NHRqbmJidXFjIn0.8O9DnGkHPecl4jjk1ZqQUQ'\n",
    "\n",
    "px.set_mapbox_access_token(mapbox_token)"
   ]
  },
  {
   "cell_type": "markdown",
   "id": "edbd59ff",
   "metadata": {},
   "source": [
    "## Exploration"
   ]
  },
  {
   "cell_type": "code",
   "execution_count": null,
   "id": "6ea375b4",
   "metadata": {},
   "outputs": [],
   "source": [
    "# laod the merged dataset first\n",
    "merge_original = pd.read_csv(r'D:\\GitHub\\NO2-in-South-East-Asia-_GE5219\\data\\merged_data.csv', index_col = 0)\n",
    "merge_original"
   ]
  },
  {
   "cell_type": "code",
   "execution_count": null,
   "id": "214b60d0",
   "metadata": {
    "scrolled": true
   },
   "outputs": [],
   "source": [
    "# view overall statistics\n",
    "merge_original.describe()"
   ]
  },
  {
   "cell_type": "code",
   "execution_count": null,
   "id": "411f6985",
   "metadata": {
    "scrolled": true
   },
   "outputs": [],
   "source": [
    "# see the distribution of data\n",
    "fig = px.histogram(merge_original, x=\"NO2\")\n",
    "fig.show()"
   ]
  },
  {
   "cell_type": "code",
   "execution_count": null,
   "id": "03dda56f",
   "metadata": {},
   "outputs": [],
   "source": [
    "# see the distribution of data\n",
    "fig = px.histogram(merge_original, x=\"facebook_movement\")\n",
    "fig.show()"
   ]
  },
  {
   "cell_type": "code",
   "execution_count": null,
   "id": "fdedc060",
   "metadata": {},
   "outputs": [],
   "source": [
    "# for highly screwed output, remove outliers, as well as remove noise in facebook mobility input\n",
    "merge = merge_original.loc[(merge_original['NO2'] > 1e-6) & (merge_original['facebook_movement'] > 50)]"
   ]
  },
  {
   "cell_type": "code",
   "execution_count": null,
   "id": "9c432cef",
   "metadata": {},
   "outputs": [],
   "source": [
    "# add in a new column, wind speed\n",
    "merge['wind_speed'] = pow((merge['u-wind']**2 + merge['v-wind']**2), 0.5)\n",
    "# merge['wind_speed'] = merge.apply(lambda x: pow(x['u-wind'] **2 + x['v-wind']**2, 0.5),axis=1)"
   ]
  },
  {
   "cell_type": "code",
   "execution_count": null,
   "id": "dbfec6d0",
   "metadata": {},
   "outputs": [],
   "source": [
    "# add in a new column, taking log10 of n_crisis\n",
    "merge['log_facebook_movement'] = np.log10(merge['facebook_movement'])"
   ]
  },
  {
   "cell_type": "code",
   "execution_count": null,
   "id": "bc1d6bf5",
   "metadata": {},
   "outputs": [],
   "source": [
    "# add in a new column, taking log10 of NO2, 1e7 was multiplied to avoid negative value after taking log, and higher NO2 still has the higher transformed NO2\n",
    "merge['log_NO2'] = np.log10(merge['NO2']*1e7)"
   ]
  },
  {
   "cell_type": "code",
   "execution_count": null,
   "id": "2f34d301",
   "metadata": {},
   "outputs": [],
   "source": [
    "merge.describe()"
   ]
  },
  {
   "cell_type": "code",
   "execution_count": null,
   "id": "edece137",
   "metadata": {},
   "outputs": [],
   "source": [
    "# calculate pearson correlation\n",
    "corr = merge.corr()\n",
    "corr"
   ]
  },
  {
   "cell_type": "code",
   "execution_count": null,
   "id": "ff814b46",
   "metadata": {},
   "outputs": [],
   "source": [
    "# show correlation in heatmap, hover and see clear values\n",
    "fig = px.imshow(corr, text_auto=True, width=700, height=700)\n",
    "fig.show()"
   ]
  },
  {
   "cell_type": "code",
   "execution_count": null,
   "id": "8b163ce6",
   "metadata": {},
   "outputs": [],
   "source": [
    "fig = px.histogram(merge, x=\"NO2\")\n",
    "fig.show()"
   ]
  },
  {
   "cell_type": "code",
   "execution_count": null,
   "id": "3d12f921",
   "metadata": {},
   "outputs": [],
   "source": [
    "fig = px.histogram(merge, x=\"log_NO2\")\n",
    "fig.show()"
   ]
  },
  {
   "cell_type": "code",
   "execution_count": null,
   "id": "33d0daa4",
   "metadata": {},
   "outputs": [],
   "source": [
    "fig = px.histogram(merge, x=\"log_facebook_movement\")\n",
    "fig.show()"
   ]
  },
  {
   "cell_type": "code",
   "execution_count": null,
   "id": "354e0ad8",
   "metadata": {},
   "outputs": [],
   "source": [
    "# save the preprocessed data to csv\n",
    "# merge.to_csv(r'D:\\GitHub\\NO2-in-South-East-Asia-_GE5219\\data\\Preprocessed_data_ML.csv')"
   ]
  },
  {
   "cell_type": "code",
   "execution_count": null,
   "id": "07238bfc",
   "metadata": {},
   "outputs": [],
   "source": [
    "# see how facebook mobility changes with time in indonesia, color shows NO2 levels\n",
    "fig = px.scatter(merge[merge['country']=='Indonesia'], x='date', y='log_facebook_movement', color='log_NO2')\n",
    "fig.show()"
   ]
  },
  {
   "cell_type": "code",
   "execution_count": null,
   "id": "8d380175",
   "metadata": {},
   "outputs": [],
   "source": [
    "# see how no2 changes with time in indonesia, color shows facebook mobility\n",
    "fig = px.scatter(merge[merge['country']=='Indonesia'], x='date', y='log_NO2', color='log_facebook_movement')\n",
    "fig.show()"
   ]
  },
  {
   "cell_type": "markdown",
   "id": "3b084a8c",
   "metadata": {},
   "source": [
    "## MLP"
   ]
  },
  {
   "cell_type": "code",
   "execution_count": null,
   "id": "a7f04c4e",
   "metadata": {},
   "outputs": [],
   "source": [
    "# X include all input values\n",
    "before_normalized_X = merge[['lon','lat','day', 'rainfall','u-wind', 'v-wind', 'wind_speed', 'surface-p', 'dew-pt', '2m-temp', 'facebook_movement', 'log_facebook_movement', 'apple_driving', 'apple_walking', 'haze']]\n",
    "before_normalized_X"
   ]
  },
  {
   "cell_type": "code",
   "execution_count": null,
   "id": "f95e45c9",
   "metadata": {},
   "outputs": [],
   "source": [
    "# normaize inputs to the same scale\n",
    "sc = StandardScaler()\n",
    "sc_X = sc.fit(before_normalized_X)\n",
    "after_normalized_X = sc_X.transform(before_normalized_X)\n",
    "after_normalized_X"
   ]
  },
  {
   "cell_type": "code",
   "execution_count": null,
   "id": "3bf133cd",
   "metadata": {},
   "outputs": [],
   "source": [
    "after_normalized_X.shape"
   ]
  },
  {
   "cell_type": "code",
   "execution_count": null,
   "id": "443d3159",
   "metadata": {},
   "outputs": [],
   "source": [
    "y = merge[['log_NO2']]\n",
    "y"
   ]
  },
  {
   "cell_type": "code",
   "execution_count": null,
   "id": "c8ee96cf",
   "metadata": {},
   "outputs": [],
   "source": [
    "# test = 30% of total data\n",
    "X_train, X_test, y_train, y_test = train_test_split(after_normalized_X, y, test_size=0.3, random_state=0)"
   ]
  },
  {
   "cell_type": "code",
   "execution_count": null,
   "id": "58bbe284",
   "metadata": {},
   "outputs": [],
   "source": [
    "# construct MLP architecture\n",
    "model = keras.Sequential([\n",
    "    layers.Dense(64, activation='relu', input_shape=[15]),\n",
    "    layers.Dense(64, activation='relu'),\n",
    "    layers.Dense(32, activation='relu'),\n",
    "    layers.Dense(32, activation='relu'),\n",
    "    layers.Dense(32, activation='relu'),\n",
    "    layers.Dense(32, activation='relu'),\n",
    "    layers.Dense(32, activation='relu'),\n",
    "    layers.Dense(32, activation='relu'),\n",
    "    layers.Dense(16, activation='relu'),\n",
    "    layers.Dense(16, activation='relu'),\n",
    "    layers.Dense(16, activation='relu'),\n",
    "    layers.Dense(16, activation='relu'),\n",
    "    layers.Dense(16, activation='relu'),\n",
    "    layers.Dense(16, activation='relu'),\n",
    "    layers.Dense(8, activation='relu'),\n",
    "    layers.Dense(8, activation='relu'),\n",
    "    layers.Dense(8, activation='relu'),\n",
    "    layers.Dense(8, activation='relu'),\n",
    "    layers.Dense(1),\n",
    "])\n",
    "model.compile(\n",
    "    optimizer='adam',\n",
    "    loss='mae',\n",
    ")"
   ]
  },
  {
   "cell_type": "code",
   "execution_count": null,
   "id": "b49db914",
   "metadata": {},
   "outputs": [],
   "source": [
    "model.summary()"
   ]
  },
  {
   "cell_type": "code",
   "execution_count": null,
   "id": "516f919b",
   "metadata": {},
   "outputs": [],
   "source": [
    "history = model.fit(\n",
    "    X_train, y_train,\n",
    "    validation_data = (X_test, y_test),\n",
    "    batch_size = 2048,\n",
    "    epochs = 300,\n",
    "#    callbacks=[early_stopping], # put your callbacks in a list\n",
    "#    verbose=0,  # turn off training log\n",
    ")"
   ]
  },
  {
   "cell_type": "code",
   "execution_count": null,
   "id": "4d583b8a",
   "metadata": {},
   "outputs": [],
   "source": [
    "# print history\n",
    "history_df = pd.DataFrame(history.history)\n",
    "history_df.loc[:, ['loss', 'val_loss']].plot();\n",
    "print(\"Minimum validation loss: {}\".format(history_df['val_loss'].min()))"
   ]
  },
  {
   "cell_type": "code",
   "execution_count": null,
   "id": "115379c8",
   "metadata": {},
   "outputs": [],
   "source": [
    "# if a model was trained and saved, can directly load here\n",
    "model = load_model('MLP_all_mobility.h5')"
   ]
  },
  {
   "cell_type": "code",
   "execution_count": null,
   "id": "a2d8d2a2",
   "metadata": {},
   "outputs": [],
   "source": [
    "# print root mean square error and mean absolute error for testing dataset (original data)\n",
    "mse_test = mse(pow(10,y_test)*1e-7,pow(10,model.predict(X_test))*1e-7)\n",
    "print(mse_test**0.5)\n",
    "print(mae(pow(10,y_test)*1e-7,pow(10,model.predict(X_test))*1e-7))"
   ]
  },
  {
   "cell_type": "code",
   "execution_count": null,
   "id": "242d9c99",
   "metadata": {},
   "outputs": [],
   "source": [
    "# print root mean square error and mean absolute error for testing dataset\n",
    "mse_test_0 = mse(y_test,model.predict(X_test))\n",
    "print(mse_test_0**0.5)\n",
    "print(mae(y_test,model.predict(X_test)))"
   ]
  },
  {
   "cell_type": "code",
   "execution_count": null,
   "id": "c4b4bac9",
   "metadata": {},
   "outputs": [],
   "source": [
    "mse_train_0 = mse(y_train,model.predict(X_train))\n",
    "print(mse_train_0**0.5)\n",
    "print(mae(y_train,model.predict(X_train)))"
   ]
  },
  {
   "cell_type": "code",
   "execution_count": null,
   "id": "7d2f1060",
   "metadata": {},
   "outputs": [],
   "source": [
    "print(r2_score(y_train,model.predict(X_train)))\n",
    "print(r2_score(y_test,model.predict(X_test)))"
   ]
  },
  {
   "cell_type": "code",
   "execution_count": null,
   "id": "736f5c7d",
   "metadata": {},
   "outputs": [],
   "source": [
    "mse_train = mse(pow(10,y_train)*1e-7,pow(10,model.predict(X_train))*1e-7)\n",
    "print(mse_train**0.5)\n",
    "print(mae(pow(10,y_train)*1e-7,pow(10,model.predict(X_train))*1e-7))"
   ]
  },
  {
   "cell_type": "code",
   "execution_count": null,
   "id": "4a7d9090",
   "metadata": {},
   "outputs": [],
   "source": [
    "print(r2_score(pow(10,y_train)*1e-7,pow(10,model.predict(X_train))*1e-7))\n",
    "print(r2_score(pow(10,y_test)*1e-7,pow(10,model.predict(X_test))*1e-7))"
   ]
  },
  {
   "cell_type": "code",
   "execution_count": null,
   "id": "6b6d71d9",
   "metadata": {},
   "outputs": [],
   "source": [
    "# plot predicted and ground_truth NO2\n",
    "plt.scatter(pow(10,y_test)*1e-7,pow(10,model.predict(X_test))*1e-7)\n",
    "plt.xlabel('NO2_test')\n",
    "plt.ylabel('NO2_test_predicted')\n",
    "plt.ylim(0,0.0001)\n",
    "plt.xlim(0,0.0001)"
   ]
  },
  {
   "cell_type": "code",
   "execution_count": null,
   "id": "1e9cb0c1",
   "metadata": {},
   "outputs": [],
   "source": [
    "#plot predicted and ground_truth log(NO2)\n",
    "plt.scatter(y_test,model.predict(X_test))\n",
    "plt.xlabel('log_NO2_test')\n",
    "plt.ylabel('log_NO2_test_predicted')\n",
    "plt.ylim(1,3)\n",
    "plt.xlim(1,3)"
   ]
  },
  {
   "cell_type": "code",
   "execution_count": null,
   "id": "440d8d80",
   "metadata": {},
   "outputs": [],
   "source": [
    "#plot predicted and ground_truth log(NO2) in training set\n",
    "plt.scatter(y_train,model.predict(X_train))\n",
    "plt.xlabel('log_NO2_train')\n",
    "plt.ylabel('log_NO2_train_predicted')\n",
    "plt.ylim(1,3)\n",
    "plt.xlim(1,3)"
   ]
  },
  {
   "cell_type": "markdown",
   "id": "edeb8d4d",
   "metadata": {},
   "source": [
    "## Error visualisation"
   ]
  },
  {
   "cell_type": "code",
   "execution_count": null,
   "id": "65ce9592",
   "metadata": {},
   "outputs": [],
   "source": [
    "# calculate error in testing dataset\n",
    "test_error = pd.DataFrame(columns = [])\n",
    "test_error['log_NO2'] = y_test['log_NO2']\n",
    "test_error['prediction'] = model.predict(X_test)\n",
    "test_error['error'] = test_error['prediction'] - test_error['log_NO2']\n",
    "test_error"
   ]
  },
  {
   "cell_type": "code",
   "execution_count": null,
   "id": "17c93926",
   "metadata": {},
   "outputs": [],
   "source": [
    "# see error distribution\n",
    "plt.hist(test_error['error'], bins='auto')\n",
    "plt.xlabel('log_NO2_test_error')\n",
    "plt.ylabel('count')\n",
    "plt.title(\"Histogram of prediction error\")\n",
    "plt.show()"
   ]
  },
  {
   "cell_type": "code",
   "execution_count": null,
   "id": "18e2250e",
   "metadata": {},
   "outputs": [],
   "source": [
    "test_error.describe()"
   ]
  },
  {
   "cell_type": "code",
   "execution_count": null,
   "id": "951606d0",
   "metadata": {},
   "outputs": [],
   "source": [
    "# define large error >0.5 or <-0.5\n",
    "# add a column indicating wether the error is large or not\n",
    "test_error['large_err'] = test_error.apply(lambda x: (x['error'] < -0.5)|(x['error'] > 0.5), axis = 1)\n",
    "test_error"
   ]
  },
  {
   "cell_type": "code",
   "execution_count": null,
   "id": "7f80c2eb",
   "metadata": {},
   "outputs": [],
   "source": [
    "# see error distribution\n",
    "# large error occus when NO2 is low\n",
    "fig = px.histogram(test_error, x='log_NO2', color = 'large_err')\n",
    "fig.show()"
   ]
  },
  {
   "cell_type": "markdown",
   "id": "680a79fb",
   "metadata": {},
   "source": [
    "## Explain with SHAP"
   ]
  },
  {
   "cell_type": "code",
   "execution_count": null,
   "id": "e5f9256a",
   "metadata": {},
   "outputs": [],
   "source": [
    "# use 5000 data (shuffled before during train test split) from training dataset as the explainer\n",
    "explainer = shap.DeepExplainer(model, X_train[:5000])"
   ]
  },
  {
   "cell_type": "code",
   "execution_count": null,
   "id": "916b70fc",
   "metadata": {},
   "outputs": [],
   "source": [
    "X_train.shape"
   ]
  },
  {
   "cell_type": "code",
   "execution_count": null,
   "id": "62356f97",
   "metadata": {},
   "outputs": [],
   "source": [
    "# get shap values of the 5000 test data (shuffled before during train test split)\n",
    "shap_values = explainer.shap_values(X_test[:5000])"
   ]
  },
  {
   "cell_type": "code",
   "execution_count": null,
   "id": "6ed79881",
   "metadata": {},
   "outputs": [],
   "source": [
    "# init the JS visualization code\n",
    "shap.initjs()\n",
    "feature_names = before_normalized_X.columns"
   ]
  },
  {
   "cell_type": "code",
   "execution_count": null,
   "id": "9fb402b6",
   "metadata": {},
   "outputs": [],
   "source": [
    "# this is global interpretation that represent the averaged impact of each variable\n",
    "shap.summary_plot(shap_values[0], plot_type = 'bar', feature_names = feature_names)"
   ]
  },
  {
   "cell_type": "code",
   "execution_count": null,
   "id": "6e5a0825",
   "metadata": {},
   "outputs": [],
   "source": [
    "# this is global interpretation that show how facebook mobility impact the model output, and how it interacts with apple_driving\n",
    "shap.dependence_plot('log_facebook_movement', shap_values[0], X_test[:5000], interaction_index = 'apple_driving', feature_names = feature_names)"
   ]
  },
  {
   "cell_type": "code",
   "execution_count": null,
   "id": "52534e70",
   "metadata": {},
   "outputs": [],
   "source": [
    "shap.dependence_plot('apple_driving', shap_values[0], X_test[:5000], interaction_index = 'apple_walking', feature_names = feature_names)"
   ]
  },
  {
   "cell_type": "code",
   "execution_count": null,
   "id": "af1e4a37",
   "metadata": {},
   "outputs": [],
   "source": [
    "model.save('MLP_all_mobility.h5')  \n",
    "# model = load_model('MLP_all.h5')"
   ]
  },
  {
   "cell_type": "markdown",
   "id": "f3249878",
   "metadata": {},
   "source": [
    "### Explain on monthly average for different countries"
   ]
  },
  {
   "cell_type": "code",
   "execution_count": null,
   "id": "f9b07875",
   "metadata": {
    "scrolled": false
   },
   "outputs": [],
   "source": [
    "merge['date'] =  pd.to_datetime(merge['date'], format='%Y-%m-%d')"
   ]
  },
  {
   "cell_type": "code",
   "execution_count": null,
   "id": "f8656397",
   "metadata": {
    "scrolled": true
   },
   "outputs": [],
   "source": [
    "# add in column with year and another with month\n",
    "merge['month'] = merge['date'].dt.month\n",
    "merge['year'] = merge['date'].dt.year\n",
    "merge"
   ]
  },
  {
   "cell_type": "code",
   "execution_count": null,
   "id": "b4b960d6",
   "metadata": {},
   "outputs": [],
   "source": [
    "# group by month, agg to mean\n",
    "merge_by_month_location = merge.groupby(['year','month', 'country','lon','lat']).mean().reset_index()\n",
    "merge_by_month_location"
   ]
  },
  {
   "cell_type": "code",
   "execution_count": null,
   "id": "671c8315",
   "metadata": {},
   "outputs": [],
   "source": [
    "merge_by_month_location.to_csv(r'D:\\GitHub\\NO2-in-South-East-Asia-_GE5219\\data\\merge_by_month.csv')"
   ]
  },
  {
   "cell_type": "code",
   "execution_count": null,
   "id": "2ab0a79d",
   "metadata": {},
   "outputs": [],
   "source": [
    "fig = px.scatter(merge_by_month_location[merge_by_month_location['year']==2021], x='month', y='log_facebook_movement', color='log_NO2', size='apple_driving',\n",
    "                facet_col='country', facet_col_wrap=4)\n",
    "fig.show()"
   ]
  },
  {
   "cell_type": "code",
   "execution_count": null,
   "id": "6de12fb8",
   "metadata": {},
   "outputs": [],
   "source": [
    "fig = px.scatter(merge_by_month_location[merge_by_month_location['country']=='Malaysia'], x='month', y='log_facebook_movement', color='log_NO2', size='apple_driving',\n",
    "                facet_col='year')\n",
    "fig.show()"
   ]
  },
  {
   "cell_type": "markdown",
   "id": "5bbe1a5b",
   "metadata": {},
   "source": [
    "### Explain on Indonesia"
   ]
  },
  {
   "cell_type": "code",
   "execution_count": null,
   "id": "2be1791b",
   "metadata": {},
   "outputs": [],
   "source": [
    "df_ID = merge[merge['country']=='Indonesia']\n",
    "df_ID"
   ]
  },
  {
   "cell_type": "code",
   "execution_count": null,
   "id": "08dc34e6",
   "metadata": {},
   "outputs": [],
   "source": [
    "fig = px.scatter(df_ID, x='date', y='log_NO2', color='log_facebook_movement')\n",
    "fig.show()"
   ]
  },
  {
   "cell_type": "code",
   "execution_count": null,
   "id": "4c1ccf36",
   "metadata": {},
   "outputs": [],
   "source": [
    "df_ID_date = df_ID[(df_ID['date']>='2021-03-01')&(df_ID['date']<='2021-03-31')]\n",
    "df_ID_date"
   ]
  },
  {
   "cell_type": "code",
   "execution_count": null,
   "id": "de4c2b98",
   "metadata": {},
   "outputs": [],
   "source": [
    "# X include all input values\n",
    "before_normalized_X_ID = df_ID_date[['lon','lat','day', 'rainfall','u-wind', 'v-wind', 'wind_speed', 'surface-p', 'dew-pt', '2m-temp', 'facebook_movement', 'log_facebook_movement', 'apple_driving', 'apple_walking', 'haze']]\n",
    "before_normalized_X_ID"
   ]
  },
  {
   "cell_type": "code",
   "execution_count": null,
   "id": "f44e0279",
   "metadata": {},
   "outputs": [],
   "source": [
    "after_normalized_X_ID = sc_X.transform(before_normalized_X_ID)\n",
    "after_normalized_X_ID"
   ]
  },
  {
   "cell_type": "code",
   "execution_count": null,
   "id": "9a6c931c",
   "metadata": {},
   "outputs": [],
   "source": [
    "shap_values_ID = explainer.shap_values(after_normalized_X_ID)"
   ]
  },
  {
   "cell_type": "code",
   "execution_count": null,
   "id": "a9d88b73",
   "metadata": {},
   "outputs": [],
   "source": [
    "shap.summary_plot(shap_values_ID[0], plot_type = 'bar', feature_names = feature_names)"
   ]
  },
  {
   "cell_type": "code",
   "execution_count": null,
   "id": "ac28a3b4",
   "metadata": {},
   "outputs": [],
   "source": [
    "shap.dependence_plot('log_facebook_movement', shap_values_ID[0], after_normalized_X_ID, interaction_index = 'apple_driving', feature_names = feature_names)"
   ]
  },
  {
   "cell_type": "code",
   "execution_count": null,
   "id": "dcfcdcda",
   "metadata": {},
   "outputs": [],
   "source": [
    "shap.dependence_plot('apple_walking', shap_values_ID[0], after_normalized_X_ID, interaction_index = 'apple_driving', feature_names = feature_names)"
   ]
  },
  {
   "cell_type": "code",
   "execution_count": null,
   "id": "3135fea2",
   "metadata": {},
   "outputs": [],
   "source": [
    "fig = px.scatter(merge[merge['country']=='Indonesia'], x='date', y='log_facebook_movement', color='log_NO2', hover_data = ['lon','lat'])\n",
    "fig.show()"
   ]
  },
  {
   "cell_type": "markdown",
   "id": "6c051103",
   "metadata": {},
   "source": [
    "### Explain on high NO2"
   ]
  },
  {
   "cell_type": "code",
   "execution_count": null,
   "id": "8fc49f21",
   "metadata": {},
   "outputs": [],
   "source": [
    "df2 = merge[(merge['log_NO2']>2.48)&(merge['log_NO2']<2.5)]\n",
    "df2"
   ]
  },
  {
   "cell_type": "code",
   "execution_count": null,
   "id": "890349de",
   "metadata": {},
   "outputs": [],
   "source": [
    "# X include all input values\n",
    "before_normalized_X_2 = df2[['lon','lat','day', 'rainfall','u-wind', 'v-wind', 'wind_speed', 'surface-p', 'dew-pt', '2m-temp', 'facebook_movement', 'log_facebook_movement', 'apple_driving', 'apple_walking', 'haze']]\n",
    "df2"
   ]
  },
  {
   "cell_type": "code",
   "execution_count": null,
   "id": "d997aefe",
   "metadata": {},
   "outputs": [],
   "source": [
    "after_normalized_X_2 = sc_X.transform(before_normalized_X_2)\n",
    "after_normalized_X_2"
   ]
  },
  {
   "cell_type": "code",
   "execution_count": null,
   "id": "6a12ca05",
   "metadata": {},
   "outputs": [],
   "source": [
    "shap_values_ID2 = explainer.shap_values(after_normalized_X_2)"
   ]
  },
  {
   "cell_type": "code",
   "execution_count": null,
   "id": "3614fa1f",
   "metadata": {},
   "outputs": [],
   "source": [
    "shap.summary_plot(shap_values_ID2[0], plot_type = 'bar', feature_names = feature_names)"
   ]
  },
  {
   "cell_type": "code",
   "execution_count": null,
   "id": "4c62f10f",
   "metadata": {},
   "outputs": [],
   "source": [
    "shap.dependence_plot('log_facebook_movement', shap_values_ID2[0], after_normalized_X_2, interaction_index = 'apple_driving', feature_names = feature_names)"
   ]
  },
  {
   "cell_type": "code",
   "execution_count": null,
   "id": "6376fcf3",
   "metadata": {},
   "outputs": [],
   "source": [
    "shap.dependence_plot('apple_driving', shap_values_ID2[0], after_normalized_X_2, interaction_index = 'apple_walking', feature_names = feature_names)"
   ]
  }
 ],
 "metadata": {
  "hide_input": false,
  "kernelspec": {
   "display_name": "Python 3 (ipykernel)",
   "language": "python",
   "name": "python3"
  },
  "language_info": {
   "codemirror_mode": {
    "name": "ipython",
    "version": 3
   },
   "file_extension": ".py",
   "mimetype": "text/x-python",
   "name": "python",
   "nbconvert_exporter": "python",
   "pygments_lexer": "ipython3",
   "version": "3.9.7"
  },
  "toc": {
   "base_numbering": 1,
   "nav_menu": {},
   "number_sections": true,
   "sideBar": true,
   "skip_h1_title": false,
   "title_cell": "Table of Contents",
   "title_sidebar": "Contents",
   "toc_cell": false,
   "toc_position": {
    "height": "calc(100% - 180px)",
    "left": "10px",
    "top": "150px",
    "width": "288px"
   },
   "toc_section_display": true,
   "toc_window_display": true
  }
 },
 "nbformat": 4,
 "nbformat_minor": 5
}
